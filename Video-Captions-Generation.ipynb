{
 "cells": [
  {
   "cell_type": "code",
   "execution_count": null,
   "id": "dc90ea64-9d76-42cf-be46-dda0583ea516",
   "metadata": {},
   "outputs": [],
   "source": [
    "import os\n",
    "import torch\n",
    "import av\n",
    "import numpy as np\n",
    "from transformers import VideoLlavaForConditionalGeneration, VideoLlavaProcessor\n",
    "from accelerate import cpu_offload"
   ]
  },
  {
   "cell_type": "code",
   "execution_count": 2,
   "id": "f5b33ae7-8c07-440e-8997-eb860fdfae11",
   "metadata": {},
   "outputs": [],
   "source": [
    "#Ignore warning\n",
    "os.environ[\"HF_HUB_DISABLE_SYMLINKS_WARNING\"] = \"1\""
   ]
  },
  {
   "cell_type": "code",
   "execution_count": null,
   "id": "32ebac95-8ba3-4e97-8411-db3a0bbd5156",
   "metadata": {
    "scrolled": true
   },
   "outputs": [
    {
     "data": {
      "application/vnd.jupyter.widget-view+json": {
       "model_id": "061f592579cf4a2aa77565a80490e24b",
       "version_major": 2,
       "version_minor": 0
      },
      "text/plain": [
       "Loading checkpoint shards:   0%|          | 0/3 [00:00<?, ?it/s]"
      ]
     },
     "metadata": {},
     "output_type": "display_data"
    }
   ],
   "source": [
    "#Loading the model & processor\n",
    "model=VideoLlavaForConditionalGeneration.from_pretrained(\n",
    "    \"LanguageBind/Video-LLaVA-7B-hf\",\n",
    "    torch_dtype=torch.float16,\n",
    "    device_map={\"\": \"cpu\"}\n",
    ")\n",
    "\n",
    "#Offloading the model to disk to manage memory\n",
    "cpu_offload(model, execution_device=\"cpu\")\n",
    "\n",
    "#Load the processor\n",
    "processor=VideoLlavaProcessor.from_pretrained(\"LanguageBind/Video-LLaVA-7B-hf\")\n",
    "\n",
    "#Setting device for later use\n",
    "device=torch.device(\"cpu\")"
   ]
  },
  {
   "cell_type": "code",
   "execution_count": 4,
   "id": "6a8b56dd-7de4-4546-8d3c-a23974974dce",
   "metadata": {},
   "outputs": [],
   "source": [
    "#Video frame extraction\n",
    "def read_video_pyav(container, indices):\n",
    "    frames=[]\n",
    "    container.seek(0)\n",
    "    start_index=indices[0]\n",
    "    end_index=indices[-1]\n",
    "    for i, frame in enumerate(container.decode(video=0)):\n",
    "        if i > end_index:\n",
    "            break\n",
    "        if i in indices:\n",
    "            frames.append(frame)\n",
    "    return np.stack([f.to_ndarray(format=\"rgb24\") for f in frames])"
   ]
  },
  {
   "cell_type": "code",
   "execution_count": 5,
   "id": "ebe92577-95ae-4729-8d11-64f7ca156b35",
   "metadata": {},
   "outputs": [],
   "source": [
    "#Generating Captions\n",
    "def caption_video(video_path, prompt=\"USER: <video>\\nDescribe what is happening in the video. ASSISTANT:\"):\n",
    "    container=av.open(video_path)\n",
    "    total_frames=container.streams.video[0].frames\n",
    "    indices=np.linspace(0, total_frames-1, num=8, dtype=int)\n",
    "    video=read_video_pyav(container, indices)\n",
    "\n",
    "    inputs=processor(text=prompt, videos=video, return_tensors=\"pt\")\n",
    "    outputs=model.generate(**inputs, max_new_tokens=100)\n",
    "\n",
    "    return processor.batch_decode(outputs, skip_special_tokens=True, clean_uptokenization_spaces=True)[0]"
   ]
  },
  {
   "cell_type": "code",
   "execution_count": 1,
   "id": "34717700-0a5d-41af-ac06-76cc2fa2c12a",
   "metadata": {},
   "outputs": [
    {
     "ename": "NameError",
     "evalue": "name 'os' is not defined",
     "output_type": "error",
     "traceback": [
      "\u001b[1;31m---------------------------------------------------------------------------\u001b[0m",
      "\u001b[1;31mNameError\u001b[0m                                 Traceback (most recent call last)",
      "Cell \u001b[1;32mIn[1], line 3\u001b[0m\n\u001b[0;32m      1\u001b[0m \u001b[38;5;66;03m#Generating output\u001b[39;00m\n\u001b[0;32m      2\u001b[0m video_dir\u001b[38;5;241m=\u001b[39m\u001b[38;5;124m\"\u001b[39m\u001b[38;5;124mVideos\u001b[39m\u001b[38;5;124m\"\u001b[39m\n\u001b[1;32m----> 3\u001b[0m video_files\u001b[38;5;241m=\u001b[39m[f \u001b[38;5;28;01mfor\u001b[39;00m f \u001b[38;5;129;01min\u001b[39;00m \u001b[43mos\u001b[49m\u001b[38;5;241m.\u001b[39mlistdir(video_dir) \u001b[38;5;28;01mif\u001b[39;00m f\u001b[38;5;241m.\u001b[39mendswith((\u001b[38;5;124m'\u001b[39m\u001b[38;5;124m.mp4\u001b[39m\u001b[38;5;124m'\u001b[39m, \u001b[38;5;124m'\u001b[39m\u001b[38;5;124m.avi\u001b[39m\u001b[38;5;124m'\u001b[39m))]\n\u001b[0;32m      5\u001b[0m \u001b[38;5;28;01mfor\u001b[39;00m vf \u001b[38;5;129;01min\u001b[39;00m video_files:\n\u001b[0;32m      6\u001b[0m     path\u001b[38;5;241m=\u001b[39mos\u001b[38;5;241m.\u001b[39mpath\u001b[38;5;241m.\u001b[39mjoin(video_dir, vf)\n",
      "\u001b[1;31mNameError\u001b[0m: name 'os' is not defined"
     ]
    }
   ],
   "source": [
    "#Generating output\n",
    "video_dir=\"Videos\"\n",
    "video_files=[f for f in os.listdir(video_dir) if f.endswith(('.mp4', '.avi'))]\n",
    "\n",
    "for vf in video_files:\n",
    "    path=os.path.join(video_dir, vf)\n",
    "    caption=caption_video(path)\n",
    "    print(f\"Video: {vf}\\nCaption: {caption}\\n{'-'*60}\")"
   ]
  }
 ],
 "metadata": {
  "kernelspec": {
   "display_name": "Python 3",
   "language": "python",
   "name": "python3"
  },
  "language_info": {
   "codemirror_mode": {
    "name": "ipython",
    "version": 3
   },
   "file_extension": ".py",
   "mimetype": "text/x-python",
   "name": "python",
   "nbconvert_exporter": "python",
   "pygments_lexer": "ipython3",
   "version": "3.10.16"
  }
 },
 "nbformat": 4,
 "nbformat_minor": 5
}
